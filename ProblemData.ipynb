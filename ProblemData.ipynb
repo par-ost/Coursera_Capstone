{
 "cells": [
  {
   "cell_type": "markdown",
   "metadata": {},
   "source": [
    "# Problem\n",
    "There are many people seeking to buy or build a house. However, it takes too much effort to search for information regarding the area that they want to purchase or build a house in. So, we need an easier source of information to help them decide if they want to purchase or build a house at that area. We need to take into the following infomaation in to consideration for this problem:\n",
    "\n",
    "+ crime rate near the house\n",
    "+ shopping facilities near the house\n",
    "+ dining facilities near the house\n",
    "+ entertainment facilities near the house\n",
    "<br>\n",
    "<br>\n",
    "Therefore it would be optimal if there was a map that plotted out all the relevant information to aid in house purchase decisions. So this project will render a map of **san francisco** and the crime rate and entertainment facilities to help decision making. \n",
    "<br>\n"
   ]
  },
  {
   "cell_type": "markdown",
   "metadata": {},
   "source": [
    "# Data\n",
    "We will acquire and use data from:\n",
    "+ Foursquare - facilities \n",
    "    1. shops\n",
    "    2. resturants\n",
    "    3. beaches\n",
    "    4. entertainments\n",
    "+ [Sanfrancisco crimedata](https://cocl.us/sanfran_crime_dataset)\n",
    "+ [Sanfrancisco locational data](https://cocl.us/datascience_survey_data)"
   ]
  }
 ],
 "metadata": {
  "language_info": {
   "codemirror_mode": {
    "name": "ipython",
    "version": 3
   },
   "file_extension": ".py",
   "mimetype": "text/x-python",
   "name": "python",
   "nbconvert_exporter": "python",
   "pygments_lexer": "ipython3",
   "version": 3
  },
  "orig_nbformat": 2
 },
 "nbformat": 4,
 "nbformat_minor": 2
}
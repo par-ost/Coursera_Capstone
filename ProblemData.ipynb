{
 "cells": [
  {
   "cell_type": "markdown",
   "metadata": {},
   "source": [
    "# Problem\n",
    "People looking for houses or wanting to build a house often lack the information needed to determin if they are willing to buy certain houses or build their houses at certain areas, such information includes:\n",
    "\n",
    "+ crime rate near the house\n",
    "+ shopping facilities near the house\n",
    "+ dining facilities near the house\n",
    "+ entertainment facilities near the house\n",
    "<br>\n",
    "<br>\n",
    "Therefore it would be optimal if there was a map that plotted out all the relevant information to aid in house purchase decisions. So this project will render a map of **san francisco** and the crime rate and entertainment facilities to help decision making. \n",
    "<br>\n",
    "# Data\n",
    "We will acquire and use data from:\n",
    "+ Foursquare - facilities \n",
    "    1. shops\n",
    "    2. resturants\n",
    "    3. beaches\n",
    "    4. entertainments\n",
    "+ [Sanfrancisco crimedata](https://cocl.us/sanfran_crime_dataset)\n",
    "+ [Sanfrancisco locational data](https://cocl.us/datascience_survey_data)"
   ]
  },
  {
   "cell_type": "code",
   "execution_count": null,
   "metadata": {},
   "outputs": [],
   "source": []
  }
 ],
 "metadata": {
  "language_info": {
   "codemirror_mode": {
    "name": "ipython",
    "version": 3
   },
   "file_extension": ".py",
   "mimetype": "text/x-python",
   "name": "python",
   "nbconvert_exporter": "python",
   "pygments_lexer": "ipython3",
   "version": 3
  },
  "orig_nbformat": 2
 },
 "nbformat": 4,
 "nbformat_minor": 2
}